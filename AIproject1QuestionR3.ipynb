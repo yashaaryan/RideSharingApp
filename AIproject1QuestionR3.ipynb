{
  "cells": [
    {
      "cell_type": "markdown",
      "metadata": {
        "id": "view-in-github",
        "colab_type": "text"
      },
      "source": [
        "<a href=\"https://colab.research.google.com/github/yashaaryan/RideSharingApp/blob/main/AIproject1QuestionR3.ipynb\" target=\"_parent\"><img src=\"https://colab.research.google.com/assets/colab-badge.svg\" alt=\"Open In Colab\"/></a>"
      ]
    },
    {
      "cell_type": "code",
      "execution_count": null,
      "metadata": {
        "colab": {
          "base_uri": "https://localhost:8080/"
        },
        "id": "W1QiQzRXC4xk",
        "outputId": "c2512cc2-2bb0-4870-8a80-441993446942"
      },
      "outputs": [
        {
          "name": "stdout",
          "output_type": "stream",
          "text": [
            "[0, 1, 2, 3, 4, 5, 6, 7, 8, 9, 10, 11, 12, 13, 14, 15, 16, 17, 18, 19, 20, 21, 22, 23, 24, 25, 26, 27, 28, 29, 30, 31, 32, 33, 34, 35, 36, 37, 38, 39, 40, 41, 42, 43, 44, 45, 46, 47, 48, 49, 50, 51, 52, 53, 54, 55, 56, 57, 58, 59, 60, 61, 62, 63, 64, 65, 66, 67, 68, 69, 70, 71, 72, 73, 74, 75, 76, 77, 78, 79, 80, 81, 82, 83, 84, 85, 86, 87, 88, 89, 90, 91, 92, 93, 94, 95, 96, 97, 98, 99]\n"
          ]
        }
      ],
      "source": [
        "import networkx as nx\n",
        "import random\n",
        "seed=1000           # seed the graph for reproducibility, you should be doing this\n",
        "G= nx.gnp_random_graph (100, .3, seed=seed )       # here we create a random binomial graph with 10 nodes and an average (expected) connectivity of 10*.3= 3.\n",
        "print ( G.nodes() )"
      ]
    },
    {
      "cell_type": "code",
      "execution_count": null,
      "metadata": {
        "colab": {
          "base_uri": "https://localhost:8080/"
        },
        "id": "7cJT-k1AkH1_",
        "outputId": "537d9e87-5395-4e6b-9791-a06be9b6c81e"
      },
      "outputs": [
        {
          "data": {
            "text/plain": [
              "True"
            ]
          },
          "execution_count": 2,
          "metadata": {},
          "output_type": "execute_result"
        }
      ],
      "source": [
        "nx.is_connected(G)      # check whether G which has at least one path between each pair of nodes."
      ]
    },
    {
      "cell_type": "code",
      "execution_count": null,
      "metadata": {
        "colab": {
          "base_uri": "https://localhost:8080/",
          "height": 70
        },
        "id": "iHw6DoVn4OPJ",
        "outputId": "04599309-b3a6-4d34-a511-c8773ebcbbae"
      },
      "outputs": [
        {
          "data": {
            "application/vnd.google.colaboratory.intrinsic+json": {
              "type": "string"
            },
            "text/plain": [
              "\"G.add_edges_from([(0, 3, {'weight': 0.1}), (0, 8,{'weight': 0.8}), (3,8,{'weight': 0.8}), (8,1, {'weight': 1.0}), (8,6, {'weight': 0.7}), (1,6, {'weight': 1.0}),  (1,4, {'weight': 0.6}),  (6,4, {'weight': 0.5}),  (6,7,{'weight': 0.9}), (4,5, {'weight': 0.5}), (4,7, {'weight': 0.4}), (4,9, {'weight': 1.0}),(7,5, {'weight': 0.8}),(7,9, {'weight': 0.4})])\""
            ]
          },
          "execution_count": 3,
          "metadata": {},
          "output_type": "execute_result"
        }
      ],
      "source": [
        "\"\"\"G.add_edges_from([(0, 3, {'weight': 0.1}), (0, 8,{'weight': 0.8}), (3,8,{'weight': 0.8}), (8,1, {'weight': 1.0}), (8,6, {'weight': 0.7}), (1,6, {'weight': 1.0}),  (1,4, {'weight': 0.6}),  (6,4, {'weight': 0.5}),  (6,7,{'weight': 0.9}), (4,5, {'weight': 0.5}), (4,7, {'weight': 0.4}), (4,9, {'weight': 1.0}),(7,5, {'weight': 0.8}),(7,9, {'weight': 0.4})])\"\"\""
      ]
    },
    {
      "cell_type": "code",
      "execution_count": null,
      "metadata": {
        "id": "45XhjBcFkH9M"
      },
      "outputs": [],
      "source": [
        "import random\n",
        "for u, v in G.edges:      # needed for requirement R3.\n",
        "  G.add_edge(u, v, weight=round(random.random(),1))"
      ]
    },
    {
      "cell_type": "code",
      "execution_count": null,
      "metadata": {
        "id": "k3-ayM4gVwg1"
      },
      "outputs": [],
      "source": [
        "#Define data structures and variables\n",
        "class Van:\n",
        "    def __init__(self, van_id, current_location=0):\n",
        "        self.van_id = int(van_id[3:]) - 1  # Subtract 1 to make van_id range from 0 to 29\n",
        "        self.current_location = current_location\n",
        "\n",
        "# Initialize a list of 30 vans with current location 0\n",
        "vans = [Van(f\"Van{i+1}\", 0) for i in range(30)]\n",
        "pickup_requests = []  # List for pickup requests\n",
        "num_vans = 30\n",
        "service_queues = [[] for _ in range(1, num_vans + 1)]\n"
      ]
    },
    {
      "cell_type": "code",
      "execution_count": null,
      "metadata": {
        "id": "9tL8OS5RVwok"
      },
      "outputs": [],
      "source": [
        "def astar(graph, start, goal):\n",
        "    try:\n",
        "        # Calculate the A* path using networkx.astar_path\n",
        "        path = nx.astar_path(graph, start, goal)\n",
        "        return path\n",
        "    except nx.NetworkXNoPath:\n",
        "        # If there is no path from start to goal, handle the exception\n",
        "        return None\n",
        "\n",
        "def astarLen(graph, start, goal):\n",
        "    try:\n",
        "        # Calculate the A* path length using networkx.astar_path\n",
        "        pathLen = nx.astar_path_length(graph, start, goal)\n",
        "        return pathLen\n",
        "    except nx.NetworkXNoPath:\n",
        "        # If there is no path from start to goal, handle the exception\n",
        "        return None"
      ]
    },
    {
      "cell_type": "code",
      "execution_count": null,
      "metadata": {
        "id": "ehUCLzJEZ7W2"
      },
      "outputs": [],
      "source": [
        "import networkx as nx\n",
        "\n",
        "def sort_service_queue(service_queue, vans, graph):\n",
        "    # Create a dictionary to store the distance of each service item from each van\n",
        "    service_distances = {}\n",
        "\n",
        "    for van in vans:\n",
        "        van_location = van.current_location\n",
        "        distances = []\n",
        "\n",
        "        for service_item in service_queue[van.van_id]:\n",
        "            id, is_pickup, location = service_item\n",
        "            if is_pickup:\n",
        "                distance = astarLen(graph, van_location, location)\n",
        "                distances.append((service_item, distance))\n",
        "\n",
        "        # Sort the service items by distance\n",
        "        sorted_service_items = sorted(distances, key=lambda x: x[1])\n",
        "\n",
        "        # Store the sorted service items in the dictionary\n",
        "        service_distances[van.van_id] = [service_item for service_item, _ in sorted_service_items]\n",
        "\n",
        "    # Create a new sorted service queue\n",
        "    # Create a new sorted service queue\n",
        "    num_vans = 30\n",
        "    new_service_queue = [[] for _ in range(1, num_vans + 1)]\n",
        "\n",
        "\n",
        "    # Process pickups and their corresponding drop-offs together\n",
        "    for van in vans:\n",
        "        if service_queue[van.van_id]:\n",
        "          id, is_pickup, location = service_queue[van.van_id][0]\n",
        "          if is_pickup==False:\n",
        "            new_service_queue[van.van_id].append((id, is_pickup, location))\n",
        "        while service_distances[van.van_id]:\n",
        "            pickup_item = service_distances[van.van_id].pop(0)\n",
        "            new_service_queue[van.van_id].append(pickup_item)\n",
        "\n",
        "            # Find the corresponding drop-off item and add it to the new service queue\n",
        "            for service_item in service_queue[van.van_id]:\n",
        "                if not service_item[1] and service_item[0] == pickup_item[0]:\n",
        "                    new_service_queue[van.van_id].append(service_item)\n",
        "                    break\n",
        "\n",
        "    return new_service_queue\n",
        "\n",
        "\n",
        "\n"
      ]
    },
    {
      "cell_type": "code",
      "execution_count": null,
      "metadata": {
        "colab": {
          "background_save": true
        },
        "id": "ioc2d4oSVwsH"
      },
      "outputs": [],
      "source": [
        "\n",
        "from pickle import TRUE\n",
        "from urllib import request\n",
        "# Main simulation loop\n",
        "\n",
        "#for customer_id in range(1,3):  # Random number of requests\n",
        "#        pickup_node = random.randint(0, 9)\n",
        "#       dropoff_node = random.randint(0, 9)\n",
        "#      pickup_requests.append([customer_id, pickup_node, dropoff_node])\n",
        "#print(\"Pickup Queue:\",pickup_requests)\n",
        "current_time = 1  # 8 am\n",
        "customer=0\n",
        "distance_traveled=0\n",
        "number_of_trips=0\n",
        "while current_time < 600:  # 6 pm\n",
        "    #initialize pickup queue\n",
        "    for customer_id in range(1,10):  # Random number of requests\n",
        "       pickup_node = random.randint(0, 99)\n",
        "       dropoff_node = random.randint(0, 99)\n",
        "       pickup_requests.append([customer, pickup_node, dropoff_node])\n",
        "       customer+=1\n",
        "\n",
        "    # Generate pickup requests\n",
        "    for i in range(len(pickup_requests)):\n",
        "        customer_id, pickup_node,dropoff_node = pickup_requests.pop(0)\n",
        "        closest_available_van = None\n",
        "        closest_distance = 100\n",
        "        van_capacity=100\n",
        "        min_van_id=100\n",
        "        for van in vans:\n",
        "            # Calculate distance between van and pickup location\n",
        "            distance = astarLen(G, van.current_location,pickup_node)\n",
        "            if distance <= closest_distance and len(service_queues[van.van_id]) < 10:\n",
        "                if distance==closest_distance and  van_capacity>len(service_queues[van.van_id]):\n",
        "                  van_capacity=len(service_queues[van.van_id])\n",
        "                  closest_available_van = van\n",
        "                  closest_distance = distance\n",
        "                if van_capacity==len(service_queues[van.van_id]) and min_van_id>van.van_id:\n",
        "                   min_van_id=van.van_id\n",
        "                   closest_available_van = van\n",
        "                   closest_distance = distance\n",
        "                elif min_van_id>van.van_id:\n",
        "                  closest_available_van = van\n",
        "                  closest_distance = distance\n",
        "                  van_capacity=len(service_queues[van.van_id])\n",
        "                  min_van_id=van.van_id\n",
        "\n",
        "        if closest_available_van is None:\n",
        "            print(\"No vans are available, try again in 15 minutes\")\n",
        "        else:\n",
        "            service_queues[closest_available_van.van_id].append((customer_id,True,pickup_node))\n",
        "            service_queues[closest_available_van.van_id].append((customer_id,False,dropoff_node))\n",
        "\n",
        "    print(\"Van Id:\",0,\"Content of Service queue before sorting :\",service_queues)\n",
        "    service_queues = sort_service_queue(service_queues,vans,G)\n",
        "\n",
        "   # Check for completed drop-offs and update van locations\n",
        "\n",
        "    for van in vans:\n",
        "          if service_queues[van.van_id]:\n",
        "           customer_id, is_pickup, location = service_queues[van.van_id][0]\n",
        "           while service_queues[van.van_id] and van.current_location == location:\n",
        "               service_queues[van.van_id].pop(0)\n",
        "               if is_pickup==False:\n",
        "                 number_of_trips+=1\n",
        "               if service_queues[van.van_id]:\n",
        "                customer_id, is_pickup, location=service_queues[van.van_id][0]\n",
        "\n",
        "\n",
        "          if service_queues[van.van_id]:\n",
        "            next_node = astar(G, van.current_location, service_queues[van.van_id][0][2])\n",
        "            van.current_location = next_node[1] if len(next_node)>1 else next_node[0]\n",
        "            distance_traveled+=1\n",
        "\n",
        "\n",
        "    current_time += 1\n",
        "print(\"No of customers:\",customer)\n",
        "\n",
        "\n"
      ]
    },
    {
      "cell_type": "code",
      "execution_count": null,
      "metadata": {
        "colab": {
          "background_save": true
        },
        "id": "bnVcSamMZkyD",
        "outputId": "655be8af-96b1-4c00-903f-a97b5dc1b762"
      },
      "outputs": [
        {
          "name": "stdout",
          "output_type": "stream",
          "text": [
            "Avegrage Distance travelled by each van: 592.4\n",
            "Average Number of trips by each van 50.53333333333333\n"
          ]
        }
      ],
      "source": [
        "# Check for drop-offs after 6 pm and complete them\n",
        "while any(service_queues):\n",
        "    for van in vans:\n",
        "        if service_queues[van.van_id]:\n",
        "            customer_id, is_pickup, location  = service_queues[van.van_id][0]\n",
        "            if van.current_location == location:\n",
        "                service_queues[van.van_id].pop(0)\n",
        "                if is_pickup==False:\n",
        "                 number_of_trips+=1\n",
        "\n",
        "            if service_queues[van.van_id]:\n",
        "                 next_node = astar(G, van.current_location, service_queues[van.van_id][0][2])\n",
        "                 van.current_location = next_node[1] if len(next_node)>1 else next_node[0]\n",
        "print(\"Avegrage Distance travelled by each van:\",distance_traveled/30)\n",
        "print(\"Average Number of trips by each van\",number_of_trips/30)\n"
      ]
    },
    {
      "cell_type": "code",
      "execution_count": null,
      "metadata": {
        "colab": {
          "background_save": true
        },
        "id": "oe59mlbXZk0X"
      },
      "outputs": [],
      "source": []
    },
    {
      "cell_type": "code",
      "execution_count": null,
      "metadata": {
        "colab": {
          "background_save": true
        },
        "id": "tWxEm4djZk3N"
      },
      "outputs": [],
      "source": []
    },
    {
      "cell_type": "code",
      "execution_count": null,
      "metadata": {
        "colab": {
          "background_save": true
        },
        "id": "T1LKAZUOZk5o"
      },
      "outputs": [],
      "source": []
    },
    {
      "cell_type": "code",
      "execution_count": null,
      "metadata": {
        "colab": {
          "background_save": true
        },
        "id": "K0Xp-MckZk8R"
      },
      "outputs": [],
      "source": []
    },
    {
      "cell_type": "code",
      "execution_count": null,
      "metadata": {
        "colab": {
          "background_save": true
        },
        "id": "DIJOciygZk_R"
      },
      "outputs": [],
      "source": []
    }
  ],
  "metadata": {
    "colab": {
      "provenance": [],
      "authorship_tag": "ABX9TyNt9DqAWc8xjsGhCH2fH6dk",
      "include_colab_link": true
    },
    "kernelspec": {
      "display_name": "Python 3",
      "name": "python3"
    },
    "language_info": {
      "name": "python"
    }
  },
  "nbformat": 4,
  "nbformat_minor": 0
}